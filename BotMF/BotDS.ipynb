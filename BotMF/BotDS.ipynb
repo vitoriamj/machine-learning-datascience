{
 "cells": [
  {
   "cell_type": "code",
   "execution_count": null,
   "id": "a5fa630c",
   "metadata": {
    "scrolled": true
   },
   "outputs": [],
   "source": [
    "# Bibliotecas\n",
    "import os\n",
    "import numpy as np\n",
    "import matplotlib.pyplot as plt\n",
    "import plotly.express as px\n",
    "import pandas as pd\n",
    "from statsmodels.tsa.stattools import adfuller\n",
    "from statsmodels.tsa.seasonal import seasonal_decompose\n",
    "from statsmodels.tsa.arima_model import ARIMA\n"
   ]
  },
  {
   "cell_type": "code",
   "execution_count": null,
   "id": "ac2ead0a",
   "metadata": {
    "scrolled": true
   },
   "outputs": [],
   "source": [
    "dataset = pd.read_csv('WDO$N_M1.csv',sep='\\t')\n",
    "#linha pega o preço de abertura de abertura pro treinamento\n",
    "# precoAber = dataset.iloc[:,2:3].values\n",
    "\n",
    "\n",
    "#dataset.shape\n",
    "#dataset.info()\n",
    "\n",
    "# filtro_gap =  ( abs(dataset['<OPEN>'] - dataset.shift()['<CLOSE>'])>5) | (abs(dataset['<CLOSE>'] - dataset.shift(-1)['<OPEN>']) >5)\n",
    "# filtro_gap_dia = ( dataset['<DATE>'] != dataset.shift()['<DATE>'] ) | ( dataset['<DATE>'] != dataset.shift(-1)['<DATE>']) \n",
    "# teste = filtro_gap & filtro_gap_dia\n",
    "# # filtro_gap\n",
    "# gaps = dataset.loc[teste]\n",
    "\n",
    "# gaps.to_csv('gapsDiaDiaWDO_M1.csv', sep='\\t')\n",
    "\n",
    "gaps = pd.read_csv('gapsDiaDiaWDO_M1.csv', sep='\\t')\n",
    "\n",
    "for ind in gaps.index:\n",
    "    for ind2 in dataset.index:\n",
    "        if gaps['<DATE>'][ind]== dataset['<DATE>'][ind2]:\n",
    "            aux = str(ind)+' '+str(ind2)\n",
    "            print(aux)\n",
    "\n",
    "#gaps['<DATE>'] = gaps['<DATE>'].apply(pd.to_datetime)\n",
    "\n",
    "\n",
    "# fig = px.line(gapes, x = '<DATE>', y = '<OPEN>', title='Preços gaps')\n",
    "# fig.show()\n",
    "\n",
    "# plt.plot(time,pos1)\n",
    "# plt.plot(time,pos2)\n",
    "# plt.grid(True)\n",
    "# plt.legend(['pos1', 'pos2'], loc='lower right')\n",
    "# plt.show()\n",
    "\n",
    "#dataset2 = pd.read_csv('WIN$N_M1.csv',sep='\\t')\n",
    "#dataset2\n",
    "\n",
    "#linha abaixo pega as colunas datas, preço de abertura e close\n",
    "#aux = dataset.loc[:,['<DATE>','<OPEN>','<CLOSE>']]\n",
    "#aux\n",
    "\n",
    "#pega 200 linhas da tabela //obs: 10:200 pega da linha 10 a 200\n",
    "#dataset.iloc[:200]\n",
    "\n",
    "# trace1 = {\n",
    "#     'x': df.index,\n",
    "#     'open': df.Open,\n",
    "#     'close': df.Close,\n",
    "#     'high': df.High,\n",
    "#     'low': df.Low,\n",
    "#     'type': 'candlestick',\n",
    "#     'name': acao,\n",
    "#     'showlegend': False\n",
    "# }\n",
    "# data = [trace1]\n",
    "# layout = go.Layout()\n",
    "# fig = go.Figure(data=data, layout=layout)\n",
    "# fig.show()\n"
   ]
  }
 ],
 "metadata": {
  "kernelspec": {
   "display_name": "Python 3 (ipykernel)",
   "language": "python",
   "name": "python3"
  },
  "language_info": {
   "codemirror_mode": {
    "name": "ipython",
    "version": 3
   },
   "file_extension": ".py",
   "mimetype": "text/x-python",
   "name": "python",
   "nbconvert_exporter": "python",
   "pygments_lexer": "ipython3",
   "version": "3.9.13"
  }
 },
 "nbformat": 4,
 "nbformat_minor": 5
}
